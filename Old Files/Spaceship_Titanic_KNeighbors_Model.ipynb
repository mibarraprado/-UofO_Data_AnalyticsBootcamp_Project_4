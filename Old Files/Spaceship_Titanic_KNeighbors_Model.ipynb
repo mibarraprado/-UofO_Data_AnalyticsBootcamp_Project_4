{
 "cells": [
  {
   "cell_type": "code",
   "execution_count": 1,
   "id": "493dc4e6",
   "metadata": {},
   "outputs": [],
   "source": [
    "# Import Modules\n",
    "import pandas as pd\n",
    "from pathlib import Path\n",
    "from sklearn.neighbors import (NeighborhoodComponentsAnalysis,KNeighborsClassifier)\n",
    "from sklearn.model_selection import train_test_split\n",
    "from sklearn.metrics import confusion_matrix,classification_report,accuracy_score\n",
    "from sklearn.preprocessing import StandardScaler\n",
    "import matplotlib.pyplot as plt\n",
    "from sklearn.pipeline import Pipeline"
   ]
  },
  {
   "cell_type": "code",
   "execution_count": 2,
   "id": "42c9a20b",
   "metadata": {},
   "outputs": [
    {
     "ename": "ModuleNotFoundError",
     "evalue": "No module named 'google'",
     "output_type": "error",
     "traceback": [
      "\u001b[1;31m---------------------------------------------------------------------------\u001b[0m",
      "\u001b[1;31mModuleNotFoundError\u001b[0m                       Traceback (most recent call last)",
      "\u001b[1;32m~\\AppData\\Local\\Temp\\ipykernel_15244\\3014021280.py\u001b[0m in \u001b[0;36m<module>\u001b[1;34m\u001b[0m\n\u001b[0;32m      2\u001b[0m \u001b[1;31m# run in terminal to use bigquery  \"pip install --upgrade google-cloud-bigquery\"\u001b[0m\u001b[1;33m\u001b[0m\u001b[1;33m\u001b[0m\u001b[1;33m\u001b[0m\u001b[0m\n\u001b[0;32m      3\u001b[0m \u001b[1;31m#import pandas as pd\u001b[0m\u001b[1;33m\u001b[0m\u001b[1;33m\u001b[0m\u001b[1;33m\u001b[0m\u001b[0m\n\u001b[1;32m----> 4\u001b[1;33m \u001b[1;32mfrom\u001b[0m \u001b[0mgoogle\u001b[0m\u001b[1;33m.\u001b[0m\u001b[0mcloud\u001b[0m \u001b[1;32mimport\u001b[0m \u001b[0mbigquery\u001b[0m\u001b[1;33m\u001b[0m\u001b[1;33m\u001b[0m\u001b[0m\n\u001b[0m\u001b[0;32m      5\u001b[0m \u001b[1;32mfrom\u001b[0m \u001b[0mgoogle\u001b[0m\u001b[1;33m.\u001b[0m\u001b[0moauth2\u001b[0m \u001b[1;32mimport\u001b[0m \u001b[0mservice_account\u001b[0m\u001b[1;33m\u001b[0m\u001b[1;33m\u001b[0m\u001b[0m\n\u001b[0;32m      6\u001b[0m credentials = service_account.Credentials.from_service_account_file(\n",
      "\u001b[1;31mModuleNotFoundError\u001b[0m: No module named 'google'"
     ]
    }
   ],
   "source": [
    "# Import Dependencies for Download and Clean\n",
    "# run in terminal to use bigquery  \"pip install --upgrade google-cloud-bigquery\"\n",
    "#import pandas as pd\n",
    "from google.cloud import bigquery\n",
    "from google.oauth2 import service_account\n",
    "credentials = service_account.Credentials.from_service_account_file(\n",
    "'Documents/spaceship_titanic/spaceship-titanic-387720-729aac731f9f.json')"
   ]
  },
  {
   "cell_type": "code",
   "execution_count": null,
   "id": "bec9bc7c",
   "metadata": {},
   "outputs": [],
   "source": [
    "project_id = 'spaceship-titanic-387720'\n",
    "client = bigquery.Client(credentials= credentials,project=project_id)"
   ]
  },
  {
   "cell_type": "code",
   "execution_count": null,
   "id": "057f9113",
   "metadata": {},
   "outputs": [],
   "source": [
    "query_Amenities = client.query(\"\"\"\n",
    "   SELECT *\n",
    "   FROM Starship_Titanic.Amenities\"\"\")\n",
    "\n",
    "query_PassengerInfo = client.query(\"\"\"\n",
    "   SELECT *\n",
    "   FROM Starship_Titanic.PassengerInfo\"\"\")\n",
    "\n",
    "query_PlanetInfo = client.query(\"\"\"\n",
    "   SELECT *\n",
    "   FROM Starship_Titanic.Planet\"\"\")\n",
    "\n",
    "results_Amenities = query_Amenities.result()\n",
    "results_PassengerInfo = query_PassengerInfo.result()\n",
    "results_PlanetInfo = query_PlanetInfo.result()\n",
    "\n",
    "Amenities_df = pd.DataFrame(results_Amenities)\n",
    "PassengerInfo_df = pd.DataFrame(results_PassengerInfo)\n",
    "PlanetInfo_df = pd.DataFrame(results_PlanetInfo)"
   ]
  },
  {
   "cell_type": "code",
   "execution_count": null,
   "id": "2dab99d5",
   "metadata": {},
   "outputs": [],
   "source": [
    "print(Amenities_df.loc[0][0])\n",
    "print(PassengerInfo_df.loc[0][0])\n",
    "print(PlanetInfo_df.loc[0][0])"
   ]
  },
  {
   "cell_type": "code",
   "execution_count": null,
   "id": "378deec7",
   "metadata": {},
   "outputs": [],
   "source": [
    "Amenities_sorted = pd.DataFrame()\n",
    "i = 0\n",
    "while i < 8:\n",
    "    Amenities_sorted[i] = Amenities_df[0].apply(lambda x: x[i])\n",
    "    i += 1\n",
    "\n",
    "Amenities_sorted = Amenities_sorted.rename(columns={0: \"PassengerId\", \n",
    "                   1: \"Cabin\", \n",
    "                   2: \"VIP\", \n",
    "                   3: \"RoomService\",\n",
    "                   4: \"FoodCourt\",\n",
    "                   5: \"ShoppingMall\",\n",
    "                   6: \"Spa\",\n",
    "                   7: \"VRDeck\"})"
   ]
  },
  {
   "cell_type": "code",
   "execution_count": null,
   "id": "a40e2702",
   "metadata": {},
   "outputs": [],
   "source": [
    "Amenities_sorted"
   ]
  },
  {
   "cell_type": "code",
   "execution_count": null,
   "id": "64ef05a1",
   "metadata": {},
   "outputs": [],
   "source": [
    "PassengerInfo_sorted = pd.DataFrame()\n",
    "i = 0\n",
    "while i < 6:\n",
    "    PassengerInfo_sorted[i] = PassengerInfo_df[0].apply(lambda x: x[i])\n",
    "    i += 1\n",
    "    \n",
    "PassengerInfo_sorted = PassengerInfo_sorted.rename(columns={0: \"PassengerId\", \n",
    "                   1: \"Name\", \n",
    "                   2: \"HomePlanet\", \n",
    "                   3: \"Cabin\",\n",
    "                   4: \"Age\",\n",
    "                   5: \"Transported\"})"
   ]
  },
  {
   "cell_type": "code",
   "execution_count": null,
   "id": "3859292f",
   "metadata": {},
   "outputs": [],
   "source": [
    "PassengerInfo_sorted"
   ]
  },
  {
   "cell_type": "code",
   "execution_count": null,
   "id": "9fa67cef",
   "metadata": {},
   "outputs": [],
   "source": [
    "PlanetInfo_sorted = pd.DataFrame()\n",
    "i = 0\n",
    "while i < 4:\n",
    "    PlanetInfo_sorted[i] = PlanetInfo_df[0].apply(lambda x: x[i])\n",
    "    i += 1\n",
    "    \n",
    "PlanetInfo_sorted = PlanetInfo_sorted.rename(columns={0: \"PassengerId\", \n",
    "                   1: \"HomePlanet\", \n",
    "                   2: \"Destination\", \n",
    "                   3: \"CryoSleep\"})"
   ]
  },
  {
   "cell_type": "code",
   "execution_count": null,
   "id": "2e937e5e",
   "metadata": {},
   "outputs": [],
   "source": [
    "PassengerInfo_sorted"
   ]
  },
  {
   "cell_type": "code",
   "execution_count": null,
   "id": "9f848ca2",
   "metadata": {},
   "outputs": [],
   "source": [
    "# Merging tables\n",
    "merge_df = pd.merge(Amenities_sorted, PassengerInfo_sorted, on = 'PassengerId', how = 'inner')\n",
    "df = pd.merge(merge_df, PlanetInfo_sorted, on = 'PassengerId', how = 'inner')"
   ]
  },
  {
   "cell_type": "code",
   "execution_count": 1,
   "id": "d9d6255a",
   "metadata": {},
   "outputs": [
    {
     "ename": "NameError",
     "evalue": "name 'df' is not defined",
     "output_type": "error",
     "traceback": [
      "\u001b[1;31m---------------------------------------------------------------------------\u001b[0m",
      "\u001b[1;31mNameError\u001b[0m                                 Traceback (most recent call last)",
      "\u001b[1;32m~\\AppData\\Local\\Temp\\ipykernel_9848\\964094849.py\u001b[0m in \u001b[0;36m<module>\u001b[1;34m\u001b[0m\n\u001b[1;32m----> 1\u001b[1;33m \u001b[0mdf\u001b[0m\u001b[1;33m.\u001b[0m\u001b[0mhead\u001b[0m\u001b[1;33m(\u001b[0m\u001b[1;33m)\u001b[0m\u001b[1;33m\u001b[0m\u001b[1;33m\u001b[0m\u001b[0m\n\u001b[0m",
      "\u001b[1;31mNameError\u001b[0m: name 'df' is not defined"
     ]
    }
   ],
   "source": [
    "df.head()"
   ]
  },
  {
   "cell_type": "code",
   "execution_count": null,
   "id": "70a4bda7",
   "metadata": {},
   "outputs": [],
   "source": [
    "# Cleaning up Column Duplications\n",
    "df = df.drop(['Cabin_y', 'HomePlanet_y'], axis=1)"
   ]
  },
  {
   "cell_type": "code",
   "execution_count": null,
   "id": "bf2ce3a0",
   "metadata": {},
   "outputs": [],
   "source": [
    "# Renaming Columns\n",
    "df = df.rename(columns={'Cabin_x': \"Cabin\", \n",
    "                   'HomePlanet_x': \"HomePlanet\"})\n",
    "df"
   ]
  },
  {
   "cell_type": "code",
   "execution_count": null,
   "id": "3761e030",
   "metadata": {},
   "outputs": [],
   "source": [
    "df[\"Transported\"].value_counts()"
   ]
  },
  {
   "cell_type": "code",
   "execution_count": null,
   "id": "59cec3f2",
   "metadata": {},
   "outputs": [],
   "source": [
    "df[\"Transported\"].dropna()"
   ]
  },
  {
   "cell_type": "code",
   "execution_count": null,
   "id": "829dabaa",
   "metadata": {},
   "outputs": [],
   "source": [
    "#check dataframe\n",
    "print(df.shape)\n",
    "df.head(5)"
   ]
  },
  {
   "cell_type": "code",
   "execution_count": null,
   "id": "19e1dcc2",
   "metadata": {},
   "outputs": [],
   "source": [
    "# Check columns\n",
    "columns = list(df.columns)\n",
    "columns"
   ]
  },
  {
   "cell_type": "code",
   "execution_count": null,
   "id": "d82f5311",
   "metadata": {},
   "outputs": [],
   "source": [
    "df.isnull().sum()"
   ]
  },
  {
   "cell_type": "code",
   "execution_count": null,
   "id": "b672b3bd",
   "metadata": {},
   "outputs": [],
   "source": [
    "# Data Munging\n",
    "\n",
    "# Make plans\n",
    "'''\n",
    "1) Check for missing values in all columns\n",
    "1.5) Consider Imputation\n",
    "2) remove unnecessary columns such as PassengerId and Name\n",
    "3) Convert categorical variables into indicator variables for HomePlanet, CryoSleep, Deck, Side, Destination, VIP, Transported\n",
    "4) Split up Cabin column into three different features\n",
    "'''"
   ]
  },
  {
   "cell_type": "code",
   "execution_count": null,
   "id": "412fbfcc",
   "metadata": {},
   "outputs": [],
   "source": [
    "# Split Cabin column in three different Columns\n",
    "df[['Deck','RoomNum','Side']] = df.Cabin.str.split(\"/\", expand = True)\n",
    "del df['Cabin']\n",
    "\n",
    "# Reorder dataset to make me happy\n",
    "df = df[['PassengerId',\n",
    " 'HomePlanet',\n",
    " 'CryoSleep',\n",
    " 'Deck',\n",
    " 'RoomNum',\n",
    " 'Side',\n",
    " 'Destination',\n",
    " 'Age',\n",
    " 'VIP',\n",
    " 'RoomService',\n",
    " 'FoodCourt',\n",
    " 'ShoppingMall',\n",
    " 'Spa',\n",
    " 'VRDeck',\n",
    " 'Name',\n",
    " 'Transported']]\n",
    "\n",
    "# Check to see everything is going to plan\n",
    "print(df.head())"
   ]
  },
  {
   "cell_type": "code",
   "execution_count": null,
   "id": "107023ad",
   "metadata": {},
   "outputs": [],
   "source": [
    "# Drop unnecessary columns\n",
    "del df['PassengerId']\n",
    "del df['Name']"
   ]
  },
  {
   "cell_type": "code",
   "execution_count": null,
   "id": "71fba353",
   "metadata": {},
   "outputs": [],
   "source": [
    "# Check drops\n",
    "columns = list(df.columns)\n",
    "columns"
   ]
  },
  {
   "cell_type": "code",
   "execution_count": null,
   "id": "f0c64306",
   "metadata": {},
   "outputs": [],
   "source": [
    "# examining missing values\n",
    "print(\"Missing values distribution: \")\n",
    "print(df.isnull().mean())"
   ]
  },
  {
   "cell_type": "code",
   "execution_count": null,
   "id": "3bba36cd",
   "metadata": {},
   "outputs": [],
   "source": [
    "# check datatype in each column\n",
    "print(\"Column datatypes: \")\n",
    "print(df.dtypes)"
   ]
  },
  {
   "cell_type": "code",
   "execution_count": null,
   "id": "3fea7323",
   "metadata": {},
   "outputs": [],
   "source": [
    "#df2['Transported'] = df2['Transported'].map({'True': True, 'False': False}) \n",
    "df['Transported'] = df['Transported'].astype(dtype = 'bool', errors = 'ignore')"
   ]
  },
  {
   "cell_type": "code",
   "execution_count": null,
   "id": "36740428",
   "metadata": {},
   "outputs": [],
   "source": [
    "# Exploring the data\n",
    "print('HomePlanet', df[\"HomePlanet\"].unique())\n",
    "print('CryoSleep', df[\"CryoSleep\"].unique())\n",
    "print('Deck', df[\"Deck\"].unique())\n",
    "print('Side', df[\"Side\"].unique())\n",
    "print('Destination', df[\"Destination\"].unique())\n",
    "print('VIP', df[\"VIP\"].unique())\n",
    "print('Transported', df[\"Transported\"].unique())"
   ]
  },
  {
   "cell_type": "code",
   "execution_count": null,
   "id": "7bd6f8ab",
   "metadata": {},
   "outputs": [],
   "source": [
    "# check datatype in each column\n",
    "print(\"Column datatypes: \")\n",
    "print(df.dtypes)"
   ]
  },
  {
   "cell_type": "code",
   "execution_count": null,
   "id": "f32211b9",
   "metadata": {},
   "outputs": [],
   "source": [
    "# Exploring the data\n",
    "print('HomePlanet', df[\"HomePlanet\"].unique())\n",
    "print('CryoSleep', df[\"CryoSleep\"].unique())\n",
    "print('Deck', df[\"Deck\"].unique())\n",
    "print('Side', df[\"Side\"].unique())\n",
    "print('Destination', df[\"Destination\"].unique())\n",
    "print('VIP', df[\"VIP\"].unique())\n",
    "print('Transported', df[\"Transported\"].unique())"
   ]
  },
  {
   "cell_type": "code",
   "execution_count": null,
   "id": "038694b5",
   "metadata": {},
   "outputs": [],
   "source": [
    "df.isnull().sum()"
   ]
  },
  {
   "cell_type": "code",
   "execution_count": null,
   "id": "d953a885",
   "metadata": {},
   "outputs": [],
   "source": [
    "df.shape"
   ]
  },
  {
   "cell_type": "code",
   "execution_count": null,
   "id": "29123645",
   "metadata": {},
   "outputs": [],
   "source": [
    "df[\"Transported\"].value_counts()"
   ]
  },
  {
   "cell_type": "code",
   "execution_count": null,
   "id": "9c3ac6e2",
   "metadata": {},
   "outputs": [],
   "source": [
    "#Nan Values\n",
    "\n",
    "df_clean = df.dropna()\n",
    "df_clean"
   ]
  },
  {
   "cell_type": "code",
   "execution_count": null,
   "id": "b3ee735f",
   "metadata": {},
   "outputs": [],
   "source": [
    "compression_opts = dict(method='zip',\n",
    "                        archive_name='titanic.csv')  \n",
    "df.to_csv('titanic.zip', index=False,\n",
    "          compression=compression_opts)  "
   ]
  },
  {
   "cell_type": "code",
   "execution_count": null,
   "id": "1bcbdcd3",
   "metadata": {},
   "outputs": [],
   "source": [
    "#KNeighbors Model "
   ]
  },
  {
   "cell_type": "code",
   "execution_count": null,
   "id": "b251a099",
   "metadata": {},
   "outputs": [],
   "source": [
    " # Read the CSV file into a Pandas DataFrame\n",
    "df = pd.read_csv(\n",
    "    Path('Documents/spaceship_titanic/titanic.csv')\n",
    ")\n",
    "df.head()"
   ]
  },
  {
   "cell_type": "code",
   "execution_count": null,
   "id": "f0f12753",
   "metadata": {},
   "outputs": [],
   "source": [
    " # Split target column from dataset\n",
    "y = df['Transported']\n",
    "X = df.drop(columns='Transported')"
   ]
  },
  {
   "cell_type": "code",
   "execution_count": null,
   "id": "280f6ca8",
   "metadata": {},
   "outputs": [],
   "source": [
    "# Preview the data\n",
    "X[:5]"
   ]
  },
  {
   "cell_type": "code",
   "execution_count": null,
   "id": "43a268d6",
   "metadata": {},
   "outputs": [],
   "source": [
    "# Print first five entries for target\n",
    "y[:5]"
   ]
  },
  {
   "cell_type": "code",
   "execution_count": null,
   "id": "cf454f6a",
   "metadata": {},
   "outputs": [],
   "source": [
    "# Encode the categorical variables using get_dummies\n",
    "X = pd.get_dummies(X)"
   ]
  },
  {
   "cell_type": "code",
   "execution_count": null,
   "id": "5ce2b088",
   "metadata": {},
   "outputs": [],
   "source": [
    "# Preview the data\n",
    "X.head()"
   ]
  },
  {
   "cell_type": "code",
   "execution_count": null,
   "id": "1d8c7ac1",
   "metadata": {},
   "outputs": [],
   "source": [
    " # Split the dataset\n",
    "X_train, X_test, y_train, y_test = train_test_split(X, y, random_state=1)"
   ]
  },
  {
   "cell_type": "code",
   "execution_count": null,
   "id": "f502244a",
   "metadata": {},
   "outputs": [],
   "source": [
    "X_train.shape"
   ]
  },
  {
   "cell_type": "code",
   "execution_count": null,
   "id": "81b27af7",
   "metadata": {},
   "outputs": [],
   "source": [
    "X_test.shape"
   ]
  },
  {
   "cell_type": "code",
   "execution_count": null,
   "id": "5bbe42b1",
   "metadata": {},
   "outputs": [],
   "source": [
    "# Create the StandardScaler instance\n",
    "scaler = StandardScaler()\n",
    "# Fit the Standard Scaler with the training data\n",
    "X_scaler = scaler.fit(X_train)\n",
    "# Scale the training data\n",
    "X_train_scaled = X_scaler.transform(X_train)\n",
    "X_test_scaled = X_scaler.transform(X_test)"
   ]
  },
  {
   "cell_type": "code",
   "execution_count": null,
   "id": "a7eaf861",
   "metadata": {},
   "outputs": [],
   "source": [
    "#Implementation of KNN\n",
    "\n",
    "knn = KNeighborsClassifier(n_neighbors=5)\n",
    "knn.fit(X_train, y_train)"
   ]
  },
  {
   "cell_type": "code",
   "execution_count": null,
   "id": "f32f58e7",
   "metadata": {},
   "outputs": [],
   "source": [
    "# use cross_val_score function\n",
    "# create empty list to store neighbors\n",
    "# create empty list to store scores\n",
    "\n",
    "from sklearn.model_selection import cross_val_score\n",
    "\n",
    "neighbors = []\n",
    "cv_scores = []\n",
    "\n",
    "# Perform 10-fold cross validation with K=5 for KNN \n",
    "# Range of K we want to try\n",
    "# k = 5 for KNeighborsClassifier\n",
    "\n",
    "for k in range(1, 101, 2):\n",
    "    neighbors.append(k)\n",
    "    knn = KNeighborsClassifier(n_neighbors = k)\n",
    "    scores = cross_val_score(\n",
    "    knn, X_train, y_train, cv = 10, scoring = 'accuracy')\n",
    "    cv_scores.append(scores.mean())\n",
    "    \n",
    "    # Passing the entirety of X and y, not X_train or y_train, it takes care of splitting the data\n",
    "    # cv=10 for 10 folds\n",
    "    # Scoring='accuracy' for evaluation metric\n",
    "    \n",
    "scores = cross_val_score(knn, X, y, cv=10, scoring = 'accuracy')\n",
    "print(scores)\n"
   ]
  },
  {
   "cell_type": "code",
   "execution_count": null,
   "id": "3abe6774",
   "metadata": {},
   "outputs": [],
   "source": [
    "# Misclassification error versus k\n",
    "MSE = [1-x for x in cv_scores]\n",
    "\n",
    "# Determining the best k value\n",
    "optimal_k = neighbors[MSE.index(min(MSE))]\n",
    "print(\"The optimal score of K neighbors = %d \" %optimal_k)\n",
    "\n",
    "# Import numpy and matplotlib\n",
    "import numpy as np\n",
    "import matplotlib.pyplot as plt \n",
    "\n",
    "# Plot misclassification error versus k\n",
    "plt.figure(figsize = (10,6))\n",
    "plt.plot(neighbors, MSE)\n",
    "plt.xlabel(\"Number of K neighbors\")\n",
    "plt.ylabel(\"Misclassification Error\")\n",
    "plt.show()"
   ]
  },
  {
   "cell_type": "code",
   "execution_count": null,
   "id": "5036070d",
   "metadata": {},
   "outputs": [],
   "source": [
    "# Instantiate the model\n",
    "model = KNeighborsClassifier(n_neighbors=43)"
   ]
  },
  {
   "cell_type": "code",
   "execution_count": null,
   "id": "643aa018",
   "metadata": {},
   "outputs": [],
   "source": [
    "# Train the model\n",
    "model.fit(X_train_scaled, y_train)"
   ]
  },
  {
   "cell_type": "code",
   "execution_count": null,
   "id": "f8e52869",
   "metadata": {},
   "outputs": [],
   "source": [
    "# Create predictions\n",
    "y_pred = model.predict(X_test_scaled)\n",
    "\n",
    "# Review the predictions\n",
    "y_pred"
   ]
  },
  {
   "cell_type": "code",
   "execution_count": null,
   "id": "9b5e2291",
   "metadata": {},
   "outputs": [],
   "source": [
    "# Print confusion matrix\n",
    "confusion_matrix(y_pred,y_test)"
   ]
  },
  {
   "cell_type": "code",
   "execution_count": null,
   "id": "c893d7f9",
   "metadata": {},
   "outputs": [],
   "source": [
    "# Print classification report\n",
    "print(classification_report(y_pred,y_test))"
   ]
  },
  {
   "cell_type": "code",
   "execution_count": null,
   "id": "c099611d",
   "metadata": {},
   "outputs": [],
   "source": []
  }
 ],
 "metadata": {
  "kernelspec": {
   "display_name": "PythonData",
   "language": "python",
   "name": "pythondata"
  },
  "language_info": {
   "codemirror_mode": {
    "name": "ipython",
    "version": 3
   },
   "file_extension": ".py",
   "mimetype": "text/x-python",
   "name": "python",
   "nbconvert_exporter": "python",
   "pygments_lexer": "ipython3",
   "version": "3.7.7"
  }
 },
 "nbformat": 4,
 "nbformat_minor": 5
}
